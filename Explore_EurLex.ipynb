{
  "nbformat": 4,
  "nbformat_minor": 0,
  "metadata": {
    "colab": {
      "provenance": [],
      "authorship_tag": "ABX9TyOW4WLCLm8gE7m+TBwVPP53",
      "include_colab_link": true
    },
    "kernelspec": {
      "name": "python3",
      "display_name": "Python 3"
    },
    "language_info": {
      "name": "python"
    }
  },
  "cells": [
    {
      "cell_type": "markdown",
      "metadata": {
        "id": "view-in-github",
        "colab_type": "text"
      },
      "source": [
        "<a href=\"https://colab.research.google.com/github/Bendrox/Legal_API_EurLex/blob/main/Explore_EurLex.ipynb\" target=\"_parent\"><img src=\"https://colab.research.google.com/assets/colab-badge.svg\" alt=\"Open In Colab\"/></a>"
      ]
    },
    {
      "cell_type": "code",
      "source": [],
      "metadata": {
        "id": "SDTKIovT7v3x"
      },
      "execution_count": null,
      "outputs": []
    },
    {
      "cell_type": "markdown",
      "source": [
        "## 1- Présentation\n"
      ],
      "metadata": {
        "id": "_B9Da_KK7T6z"
      }
    },
    {
      "cell_type": "markdown",
      "source": [
        "\n",
        "\n",
        "###  Page référence pour Eur-Lex:\n",
        "\n",
        "https://eur-lex.europa.eu/content/help/data-reuse/webservice.html\n",
        "\n",
        "###  Specificités Eur-Lex :\n",
        "\n",
        "- Deliver the data in XML.\n",
        "- Any search on the website can be done via the webservice (including full text search)\n",
        "- Web service is based on the SOAP protocol (Simple Object Access Protocol).\n",
        "\n",
        "- Web service allows you to search within the text of the documents themselves (not to download)\n",
        "\n",
        "###  SOAP protocol:\n",
        "- Protocole d'échange d'information structurée dans l'implémentation de services web bâti sur XML avec Protocole HTTP. Il Est composé de deux parties :\n",
        "\n",
        "  - Une enveloppe, contenant des informations sur le message ;\n",
        "\n",
        "  - un modèle de données, définissant le format du message, c'est-à-dire les informations à transmettre.\n",
        "\n",
        "\n",
        "###  Défaults:\n",
        "- SOAP peut alourdir considérablement les échanges a cause du format d'échange en XML.\n",
        "- Une modification de l'API implique ainsi une évolution côté client, contrairement à une architecture orientée ressources telle que REST.\n",
        "\n",
        "\n",
        "### To Download documents :\n",
        "- RESTful API or\n",
        "- by creating a URL"
      ],
      "metadata": {
        "id": "rUKNoeADkr1D"
      }
    },
    {
      "cell_type": "code",
      "execution_count": null,
      "metadata": {
        "id": "H8ouIeqi6vf3"
      },
      "outputs": [],
      "source": []
    }
  ]
}